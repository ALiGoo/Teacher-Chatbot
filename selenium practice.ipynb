{
 "cells": [
  {
   "cell_type": "code",
   "execution_count": 2,
   "metadata": {},
   "outputs": [
    {
     "ename": "KeyboardInterrupt",
     "evalue": "",
     "output_type": "error",
     "traceback": [
      "\u001b[0;31m---------------------------------------------------------------------------\u001b[0m",
      "\u001b[0;31mKeyboardInterrupt\u001b[0m                         Traceback (most recent call last)",
      "\u001b[0;32m<ipython-input-2-d55c5235d06c>\u001b[0m in \u001b[0;36m<module>\u001b[0;34m()\u001b[0m\n\u001b[1;32m     11\u001b[0m \u001b[0;34m\u001b[0m\u001b[0m\n\u001b[1;32m     12\u001b[0m \u001b[0mdriver\u001b[0m\u001b[0;34m.\u001b[0m\u001b[0mget\u001b[0m\u001b[0;34m(\u001b[0m\u001b[0;34m'https://www.gamer.com.tw/'\u001b[0m\u001b[0;34m)\u001b[0m\u001b[0;34m\u001b[0m\u001b[0m\n\u001b[0;32m---> 13\u001b[0;31m \u001b[0mtime\u001b[0m\u001b[0;34m.\u001b[0m\u001b[0msleep\u001b[0m\u001b[0;34m(\u001b[0m\u001b[0;36m3\u001b[0m\u001b[0;34m)\u001b[0m\u001b[0;34m\u001b[0m\u001b[0m\n\u001b[0m\u001b[1;32m     14\u001b[0m \u001b[0;34m\u001b[0m\u001b[0m\n\u001b[1;32m     15\u001b[0m \u001b[0mbsobj\u001b[0m \u001b[0;34m=\u001b[0m \u001b[0mBeautifulSoup\u001b[0m\u001b[0;34m(\u001b[0m\u001b[0mdriver\u001b[0m\u001b[0;34m.\u001b[0m\u001b[0mpage_source\u001b[0m\u001b[0;34m,\u001b[0m\u001b[0;34m'lxml'\u001b[0m\u001b[0;34m)\u001b[0m\u001b[0;34m\u001b[0m\u001b[0m\n",
      "\u001b[0;31mKeyboardInterrupt\u001b[0m: "
     ]
    }
   ],
   "source": [
    "from bs4 import BeautifulSoup\n",
    "from selenium import webdriver\n",
    "from selenium.webdriver.firefox.options import Options\n",
    "from sqlalchemy import create_engine\n",
    "import time\n",
    "\n",
    "# 不希望出現視窗\n",
    "firefox_options = Options()  \n",
    "firefox_options.add_argument(\"-headless\")  \n",
    "driver = webdriver.Firefox(options = firefox_options)\n",
    "\n",
    "driver.get('https://www.gamer.com.tw/')\n",
    "time.sleep(3)\n",
    "\n",
    "bsobj = BeautifulSoup(driver.page_source,'lxml')\n",
    "print(bsobj.div.text)\n",
    "\n",
    "driver.close()"
   ]
  },
  {
   "cell_type": "code",
   "execution_count": 27,
   "metadata": {},
   "outputs": [],
   "source": [
    "from bs4 import BeautifulSoup\n",
    "from selenium import webdriver\n",
    "from selenium.webdriver.firefox.options import Options\n",
    "from sqlalchemy import create_engine\n",
    "import pandas as pd\n",
    "import time\n",
    "engine = create_engine('sqlite:///database.db')"
   ]
  },
  {
   "cell_type": "code",
   "execution_count": 28,
   "metadata": {},
   "outputs": [],
   "source": [
    "data = pd.read_sql('select * from course where sub_name = \"投資學\"',con=engine,params=[])"
   ]
  },
  {
   "cell_type": "code",
   "execution_count": 29,
   "metadata": {},
   "outputs": [],
   "source": [
    "output = ''\n",
    "for i in data.index:\n",
    "#     print(data.loc[i])\n",
    "    for j in data.loc[i]:\n",
    "        output += str(j) + '   '"
   ]
  },
  {
   "cell_type": "code",
   "execution_count": 30,
   "metadata": {},
   "outputs": [
    {
     "data": {
      "text/plain": [
       "'242   FINA350   投資學   3   選修   商學院   國際經營與貿易學系   3   242   FINA350   投資學   3   選修   商學院   國際經營與貿易學系   3   242   FINA350   投資學   3   選修   商學院   國際經營與貿易學系   3   551   FINA350   投資學   3   選修   商學院   合作經濟暨社會事業經營學系   3   330   FINA350   投資學   3   必修   金融學院   財金系   3   336   FINA350   投資學   3   必修   金融學院   財金系   3   342   FINA350   投資學   3   必修   金融學院   財金系   3   79   FINA350   投資學   3   選修   商學院   會計系   3   79   FINA350   投資學   3   選修   商學院   會計系   3   79   FINA350   投資學   3   選修   商學院   會計系   3   2432   FINA350   投資學   3   選修   商學院   企管系   3   2432   FINA350   投資學   3   選修   商學院   企管系   3   439   FINA350   投資學   3   選修   商學院   財稅系   3   439   FINA350   投資學   3   選修   商學院   財稅系   3   584   FINA350   投資學   3   選修   商學院   經濟系   3   584   FINA350   投資學   3   選修   商學院   經濟系   3   1984   FINA350   投資學   3   選修   金融學院   金融學院   3   '"
      ]
     },
     "execution_count": 30,
     "metadata": {},
     "output_type": "execute_result"
    }
   ],
   "source": [
    "output"
   ]
  },
  {
   "cell_type": "code",
   "execution_count": null,
   "metadata": {},
   "outputs": [],
   "source": []
  }
 ],
 "metadata": {
  "kernelspec": {
   "display_name": "Python 3",
   "language": "python",
   "name": "python3"
  },
  "language_info": {
   "codemirror_mode": {
    "name": "ipython",
    "version": 3
   },
   "file_extension": ".py",
   "mimetype": "text/x-python",
   "name": "python",
   "nbconvert_exporter": "python",
   "pygments_lexer": "ipython3",
   "version": "3.7.1"
  }
 },
 "nbformat": 4,
 "nbformat_minor": 2
}
